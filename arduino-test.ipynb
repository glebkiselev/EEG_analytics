{
 "cells": [
  {
   "cell_type": "code",
   "id": "initial_id",
   "metadata": {
    "collapsed": true,
    "ExecuteTime": {
     "end_time": "2024-10-26T10:41:01.236891Z",
     "start_time": "2024-10-26T10:40:59.909675Z"
    }
   },
   "source": [
    "from typing import Tuple, Iterable\n",
    "\n",
    "import numpy as np\n",
    "import pandas as pd\n",
    "import matplotlib.pyplot as plt\n",
    "import requests\n",
    "from tqdm.notebook import tqdm\n",
    "\n",
    "CONTROLLER_ADDR = '192.168.0.104'\n",
    "\n",
    "df_X = pd.read_csv('X_test.csv', header=None)"
   ],
   "outputs": [],
   "execution_count": 1
  },
  {
   "metadata": {
    "ExecuteTime": {
     "end_time": "2024-10-26T10:41:01.362096Z",
     "start_time": "2024-10-26T10:41:01.243901Z"
    }
   },
   "cell_type": "code",
   "source": [
    "def predict(x: Iterable) -> Tuple[float, float, float, float]:\n",
    "    resp = requests.get(f'http://{CONTROLLER_ADDR}/predict', params={\n",
    "        f'x{idx + 1}': xi\n",
    "        for idx, xi in enumerate(x)\n",
    "    })\n",
    "    resp.raise_for_status()\n",
    "\n",
    "    # noinspection PyTypeChecker\n",
    "    return tuple(float(y) for idx, y in enumerate(str(resp.text).split(' ')) if idx < 4)\n",
    "\n",
    "\n",
    "predict((-0.52109855, -0.57133687, -0.481523, -0.5882358, -0.80570453, -0.03607523,\n",
    "         -0.8392386, -0.8549552, 0.3732829, -0.5899839, 0.38921237, 0.5864193,\n",
    "         1.0258859, -0.41387412, -0.5701152, -0.6521362, -0.8420634, -0.68346435,\n",
    "         -0.8151803, -0.668313, 0.6052867, 1.0809759, 0.77627265, -0.77486044,))"
   ],
   "id": "b0c5bcc18885da44",
   "outputs": [
    {
     "data": {
      "text/plain": [
       "(0.0, 0.05, 0.95, 0.0)"
      ]
     },
     "execution_count": 2,
     "metadata": {},
     "output_type": "execute_result"
    }
   ],
   "execution_count": 2
  },
  {
   "metadata": {
    "ExecuteTime": {
     "end_time": "2024-10-26T10:41:02.204678Z",
     "start_time": "2024-10-26T10:41:01.459002Z"
    }
   },
   "cell_type": "code",
   "source": [
    "y_pred = np.array([\n",
    "    predict(x)\n",
    "    for _, x in tqdm(df_X.iterrows(), total=len(df_X))\n",
    "])"
   ],
   "id": "5b8eb940cc87195f",
   "outputs": [
    {
     "data": {
      "text/plain": [
       "  0%|          | 0/33 [00:00<?, ?it/s]"
      ],
      "application/vnd.jupyter.widget-view+json": {
       "version_major": 2,
       "version_minor": 0,
       "model_id": "04ee448cc8f6401da655b8320bd6e766"
      }
     },
     "metadata": {},
     "output_type": "display_data"
    }
   ],
   "execution_count": 3
  },
  {
   "metadata": {
    "ExecuteTime": {
     "end_time": "2024-10-26T10:42:22.366318Z",
     "start_time": "2024-10-26T10:42:22.265466Z"
    }
   },
   "cell_type": "code",
   "source": [
    "y_pred_cls = np.argmax(y_pred, axis=-1)\n",
    "plt.title(\"Test dataset pred classes\")\n",
    "plt.hist(y_pred_cls, bins=4, range=(0, 3))\n",
    "plt.show()"
   ],
   "id": "393052eb7a96987e",
   "outputs": [
    {
     "data": {
      "text/plain": [
       "<Figure size 640x480 with 1 Axes>"
      ],
      "image/png": "[encoded data removed]"
     },
     "metadata": {},
     "output_type": "display_data"
    }
   ],
   "execution_count": 6
  }
 ],
 "metadata": {
  "kernelspec": {
   "display_name": "Python 3",
   "language": "python",
   "name": "python3"
  },
  "language_info": {
   "codemirror_mode": {
    "name": "ipython",
    "version": 2
   },
   "file_extension": ".py",
   "mimetype": "text/x-python",
   "name": "python",
   "nbconvert_exporter": "python",
   "pygments_lexer": "ipython2",
   "version": "2.7.6"
  }
 },
 "nbformat": 4,
 "nbformat_minor": 5
}
