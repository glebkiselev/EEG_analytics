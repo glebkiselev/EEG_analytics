{
 "cells": [
  {
   "cell_type": "code",
   "id": "initial_id",
   "metadata": {
    "collapsed": true,
    "ExecuteTime": {
     "end_time": "2024-10-27T04:38:09.682988Z",
     "start_time": "2024-10-27T04:38:08.277240Z"
    }
   },
   "source": [
    "from typing import Tuple, Iterable\n",
    "\n",
    "import numpy as np\n",
    "import pandas as pd\n",
    "import matplotlib.pyplot as plt\n",
    "import requests\n",
    "from tqdm.notebook import tqdm\n",
    "\n",
    "CONTROLLER_ADDR = '192.168.0.104'\n",
    "\n",
    "df_X = pd.read_csv('X_test.csv', header=None)"
   ],
   "outputs": [],
   "execution_count": 1
  },
  {
   "metadata": {
    "ExecuteTime": {
     "end_time": "2024-10-27T04:38:09.886184Z",
     "start_time": "2024-10-27T04:38:09.693061Z"
    }
   },
   "cell_type": "code",
   "source": [
    "def predict(x: Iterable) -> Tuple[float, float, float, float]:\n",
    "    resp = requests.get(f'http://{CONTROLLER_ADDR}/predict', params={\n",
    "        f'x{idx + 1}': xi\n",
    "        for idx, xi in enumerate(x)\n",
    "    })\n",
    "    resp.raise_for_status()\n",
    "\n",
    "    # noinspection PyTypeChecker\n",
    "    return tuple(float(y) for idx, y in enumerate(str(resp.text).split(' ')) if idx < 4)\n",
    "\n",
    "\n",
    "predict((-0.52109855, -0.57133687, -0.481523, -0.5882358, -0.80570453, -0.03607523,\n",
    "         -0.8392386, -0.8549552, 0.3732829, -0.5899839, 0.38921237, 0.5864193,\n",
    "         1.0258859, -0.41387412, -0.5701152, -0.6521362, -0.8420634, -0.68346435,\n",
    "         -0.8151803, -0.668313, 0.6052867, 1.0809759, 0.77627265, -0.77486044,))"
   ],
   "id": "b0c5bcc18885da44",
   "outputs": [
    {
     "data": {
      "text/plain": [
       "(0.14, 0.66, 0.15, 0.05)"
      ]
     },
     "execution_count": 2,
     "metadata": {},
     "output_type": "execute_result"
    }
   ],
   "execution_count": 2
  },
  {
   "metadata": {
    "ExecuteTime": {
     "end_time": "2024-10-27T04:38:10.738039Z",
     "start_time": "2024-10-27T04:38:09.979825Z"
    }
   },
   "cell_type": "code",
   "source": [
    "y_pred = np.array([\n",
    "    predict(x)\n",
    "    for _, x in tqdm(df_X.iterrows(), total=len(df_X))\n",
    "], dtype='float64')"
   ],
   "id": "5b8eb940cc87195f",
   "outputs": [
    {
     "data": {
      "text/plain": [
       "  0%|          | 0/33 [00:00<?, ?it/s]"
      ],
      "application/vnd.jupyter.widget-view+json": {
       "version_major": 2,
       "version_minor": 0,
       "model_id": "897c4dee035645ac82dbab425f20ed79"
      }
     },
     "metadata": {},
     "output_type": "display_data"
    }
   ],
   "execution_count": 3
  },
  {
   "metadata": {
    "ExecuteTime": {
     "end_time": "2024-10-27T04:38:10.887979Z",
     "start_time": "2024-10-27T04:38:10.755043Z"
    }
   },
   "cell_type": "code",
   "source": [
    "y_pred_cls = np.argmax(y_pred, axis=-1).astype('int32')\n",
    "plt.title(\"Test dataset pred classes\")\n",
    "plt.hist(y_pred_cls, bins=4, range=(0, 3))\n",
    "plt.show()"
   ],
   "id": "393052eb7a96987e",
   "outputs": [
    {
     "data": {
      "text/plain": [
       "<Figure size 640x480 with 1 Axes>"
      ],
      "image/png": "[encoded data removed]"
     },
     "metadata": {},
     "output_type": "display_data"
    }
   ],
   "execution_count": 4
  },
  {
   "metadata": {},
   "cell_type": "markdown",
   "source": "### Eval on Arduino",
   "id": "4b8e8bd506dfca9a"
  },
  {
   "metadata": {
    "ExecuteTime": {
     "end_time": "2024-10-27T04:38:10.909851Z",
     "start_time": "2024-10-27T04:38:10.906052Z"
    }
   },
   "cell_type": "code",
   "source": [
    "df_Y = pd.read_csv('Y_test.csv', header=None)\n",
    "X_test = df_X.to_numpy(dtype='int32')\n",
    "y_test = df_Y.to_numpy(dtype='int32').reshape((-1,))"
   ],
   "id": "fec758384af20c89",
   "outputs": [],
   "execution_count": 5
  },
  {
   "metadata": {
    "ExecuteTime": {
     "end_time": "2024-10-27T04:38:11.600008Z",
     "start_time": "2024-10-27T04:38:10.930011Z"
    }
   },
   "cell_type": "code",
   "source": [
    "from sklearn.metrics import accuracy_score, confusion_matrix, classification_report\n",
    "\n",
    "accuracy = accuracy_score(y_test, y_pred_cls)\n",
    "print(f'Accuracy: {accuracy:.2f}')\n",
    "\n",
    "print(\"Confusion Matrix:\")\n",
    "print(confusion_matrix(y_test, y_pred_cls))\n",
    "print(\"Classification Report:\")\n",
    "print(classification_report(y_test, y_pred_cls, zero_division=0))"
   ],
   "id": "77852261a9519f86",
   "outputs": [
    {
     "name": "stdout",
     "output_type": "stream",
     "text": [
      "Accuracy: 0.85\n",
      "Confusion Matrix:\n",
      "[[4 4 0 0]\n",
      " [0 8 0 0]\n",
      " [0 1 9 0]\n",
      " [0 0 0 7]]\n",
      "Classification Report:\n",
      "              precision    recall  f1-score   support\n",
      "\n",
      "           0       1.00      0.50      0.67         8\n",
      "           1       0.62      1.00      0.76         8\n",
      "           2       1.00      0.90      0.95        10\n",
      "           3       1.00      1.00      1.00         7\n",
      "\n",
      "    accuracy                           0.85        33\n",
      "   macro avg       0.90      0.85      0.84        33\n",
      "weighted avg       0.91      0.85      0.85        33\n",
      "\n"
     ]
    }
   ],
   "execution_count": 6
  },
  {
   "metadata": {},
   "cell_type": "markdown",
   "source": "### Eval on local machine",
   "id": "76606e950404b425"
  },
  {
   "metadata": {
    "ExecuteTime": {
     "end_time": "2024-10-27T04:38:14.329739Z",
     "start_time": "2024-10-27T04:38:11.620745Z"
    }
   },
   "cell_type": "code",
   "source": [
    "import tensorflow as tf\n",
    "\n",
    "interpreter = tf.lite.Interpreter(model_path=\"model.tflite\")\n",
    "interpreter.allocate_tensors()\n",
    "\n",
    "input_details = interpreter.get_input_details()\n",
    "output_details = interpreter.get_output_details()\n",
    "\n",
    "def predict_local(x):\n",
    "    input_data = x.reshape(input_details[0]['shape']).astype(np.float32)\n",
    "    interpreter.set_tensor(input_details[0]['index'], input_data)\n",
    "    interpreter.invoke()\n",
    "\n",
    "    output_data = interpreter.get_tensor(output_details[0]['index'])\n",
    "    return np.argmax(output_data)\n",
    "\n",
    "y_pred_cls_local = np.array([\n",
    "    predict_local(X_test[i])\n",
    "    for i in tqdm(range(len(X_test)), total=len(X_test))\n",
    "], dtype='int32')"
   ],
   "id": "259126aa2771310",
   "outputs": [
    {
     "data": {
      "text/plain": [
       "  0%|          | 0/33 [00:00<?, ?it/s]"
      ],
      "application/vnd.jupyter.widget-view+json": {
       "version_major": 2,
       "version_minor": 0,
       "model_id": "b8e95154431c434e80cdbdd924aafb54"
      }
     },
     "metadata": {},
     "output_type": "display_data"
    }
   ],
   "execution_count": 7
  },
  {
   "metadata": {
    "ExecuteTime": {
     "end_time": "2024-10-27T04:38:14.363249Z",
     "start_time": "2024-10-27T04:38:14.352058Z"
    }
   },
   "cell_type": "code",
   "source": [
    "accuracy = accuracy_score(y_test, y_pred_cls_local)\n",
    "print(f'Accuracy: {accuracy:.2f}')\n",
    "\n",
    "print(\"Confusion Matrix:\")\n",
    "print(confusion_matrix(y_test, y_pred_cls_local))\n",
    "print(\"Classification Report:\")\n",
    "print(classification_report(y_test, y_pred_cls_local, zero_division=0))"
   ],
   "id": "641bdd97fe4231f3",
   "outputs": [
    {
     "name": "stdout",
     "output_type": "stream",
     "text": [
      "Accuracy: 0.79\n",
      "Confusion Matrix:\n",
      "[[6 2 0 0]\n",
      " [1 6 1 0]\n",
      " [1 0 9 0]\n",
      " [0 0 2 5]]\n",
      "Classification Report:\n",
      "              precision    recall  f1-score   support\n",
      "\n",
      "           0       0.75      0.75      0.75         8\n",
      "           1       0.75      0.75      0.75         8\n",
      "           2       0.75      0.90      0.82        10\n",
      "           3       1.00      0.71      0.83         7\n",
      "\n",
      "    accuracy                           0.79        33\n",
      "   macro avg       0.81      0.78      0.79        33\n",
      "weighted avg       0.80      0.79      0.79        33\n",
      "\n"
     ]
    }
   ],
   "execution_count": 8
  },
  {
   "metadata": {
    "ExecuteTime": {
     "end_time": "2024-10-27T04:38:14.385954Z",
     "start_time": "2024-10-27T04:38:14.383697Z"
    }
   },
   "cell_type": "code",
   "source": "",
   "id": "7a02e01ee8ae4fef",
   "outputs": [],
   "execution_count": null
  }
 ],
 "metadata": {
  "kernelspec": {
   "display_name": "Python 3",
   "language": "python",
   "name": "python3"
  },
  "language_info": {
   "codemirror_mode": {
    "name": "ipython",
    "version": 2
   },
   "file_extension": ".py",
   "mimetype": "text/x-python",
   "name": "python",
   "nbconvert_exporter": "python",
   "pygments_lexer": "ipython2",
   "version": "2.7.6"
  }
 },
 "nbformat": 4,
 "nbformat_minor": 5
}
