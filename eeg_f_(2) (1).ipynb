{
 "cells": [
  {
   "cell_type": "code",
   "execution_count": 2,
   "metadata": {
    "id": "jYm054ImxNt-"
   },
   "outputs": [],
   "source": [
    "import mne\n",
    "import pandas as pd\n",
    "import numpy as np\n",
    "import tensorflow as tf\n",
    "from sklearn.linear_model import LogisticRegression\n",
    "from sklearn.preprocessing import StandardScaler\n",
    "from sklearn.model_selection import train_test_split\n",
    "from sklearn.metrics import accuracy_score\n",
    "from keras.layers import Conv1D, MaxPooling1D, Flatten\n",
    "from keras.metrics import Precision, Recall"
   ]
  },
  {
   "cell_type": "code",
   "execution_count": 22,
   "metadata": {
    "colab": {
     "base_uri": "https://localhost:8080/"
    },
    "id": "CH-hQbV3yT2S",
    "outputId": "44031418-453e-4aa1-8031-ddb2e2f1fa16"
   },
   "outputs": [
    {
     "name": "stdout",
     "output_type": "stream",
     "text": [
      "['p002_MI_markers_elist_f_cf pruned with ICA_bins_impel_be.fdt', 'p002_MI_markers_elist_f_cf pruned with ICA_bins_impel_be.set', 'p002_MI_markers_elist_f_cf pruned with ICA_bins_impel_be_ar.fdt', 'p002_MI_markers_elist_f_cf pruned with ICA_bins_impel_be_ar.set', 'p002_MI_withbins.set', 'test01.txt', 'test04.txt']\n"
     ]
    }
   ],
   "source": [
    "import os\n",
    "\n",
    "print(os.listdir(\"./data/\"))\n",
    "filepath = './data/p002_MI_withbins.set'"
   ]
  },
  {
   "cell_type": "code",
   "execution_count": 135,
   "metadata": {
    "colab": {
     "base_uri": "https://localhost:8080/",
     "height": 583
    },
    "id": "sByVrUBzt8IB",
    "outputId": "824cb23f-9750-4e67-918a-45dc4f897065"
   },
   "outputs": [
    {
     "name": "stdout",
     "output_type": "stream",
     "text": [
      "Extracting parameters from D:\\Development\\EEG ANALITICS\\data\\p002_MI_withbins.set...\n",
      "Not setting metadata\n",
      "90 matching events found\n",
      "No baseline correction applied\n",
      "0 projection items activated\n",
      "Ready.\n"
     ]
    },
    {
     "name": "stderr",
     "output_type": "stream",
     "text": [
      "C:\\Users\\Kiselev\\AppData\\Local\\Temp\\1\\ipykernel_19652\\2379057301.py:1: RuntimeWarning: At least one epoch has multiple events. Only the latency of the first event will be retained.\n",
      "  epochs = mne.read_epochs_eeglab(filepath)\n"
     ]
    }
   ],
   "source": [
    "epochs = mne.read_epochs_eeglab(filepath)\n",
    "df = epochs.to_data_frame()"
   ]
  },
  {
   "cell_type": "code",
   "execution_count": 136,
   "metadata": {},
   "outputs": [],
   "source": [
    "from scipy.io import loadmat\n",
    "\n",
    "def mat_struct_to_dict(mat_struct_obj):\n",
    "    return {field: getattr(mat_struct_obj, field) for field in mat_struct_obj._fieldnames}\n",
    "eeglab_data = loadmat(filepath, struct_as_record=False, squeeze_me=True)\n",
    "\n",
    "events_data = eeglab_data['event']\n",
    "df['codelabel'] = pd.NA\n",
    "for i, event in enumerate(events_data):\n",
    "    label = mat_struct_to_dict(event)['codelabel']\n",
    "    df.loc[i, \"codelabel\"] = label"
   ]
  },
  {
   "cell_type": "code",
   "execution_count": 137,
   "metadata": {},
   "outputs": [
    {
     "data": {
      "text/plain": [
       "0       s0\n",
       "1       s0\n",
       "2      stf\n",
       "3       s0\n",
       "4       s0\n",
       "      ... \n",
       "457     s0\n",
       "458    stl\n",
       "459     s0\n",
       "460     s0\n",
       "461     s0\n",
       "Name: codelabel, Length: 462, dtype: object"
      ]
     },
     "execution_count": 137,
     "metadata": {},
     "output_type": "execute_result"
    }
   ],
   "source": [
    "df = df.dropna()\n",
    "df[\"codelabel\"]"
   ]
  },
  {
   "cell_type": "code",
   "execution_count": 138,
   "metadata": {},
   "outputs": [],
   "source": [
    "# двигает рукой\n",
    "stf = []\n",
    "# частично двигает рукой\n",
    "sts = []\n",
    "# не двигает рукой - но представляет\n",
    "stl = []\n",
    "# не двигает вообще\n",
    "s0 = []\n",
    "for index, row in df.iterrows():\n",
    "  if 'stf' in row['codelabel']:\n",
    "   stf.append(index)\n",
    "  elif 'sts' in row['codelabel']:\n",
    "    sts.append(index)\n",
    "  elif 'stl' in row['codelabel']:\n",
    "    stl.append(index)\n",
    "  elif 's0' in row['codelabel']:\n",
    "    s0.append(index)"
   ]
  },
  {
   "cell_type": "code",
   "execution_count": 139,
   "metadata": {
    "id": "9NR12GUjEzET"
   },
   "outputs": [],
   "source": [
    "df2 = df.drop('codelabel', axis=1)\n",
    "df2['codelabel'] = pd.NA\n",
    "for el in s0:\n",
    "  df2.at[el, 'codelabel'] = 0\n",
    "for el in stf:\n",
    "  df2.at[el, 'codelabel'] = 1\n",
    "for el in sts:\n",
    "  df2.at[el, 'codelabel'] = 2\n",
    "for el in stl:\n",
    "  df2.at[el, 'codelabel'] = 3"
   ]
  },
  {
   "cell_type": "code",
   "execution_count": 140,
   "metadata": {},
   "outputs": [
    {
     "data": {
      "text/html": [
       "<div>\n",
       "<style scoped>\n",
       "    .dataframe tbody tr th:only-of-type {\n",
       "        vertical-align: middle;\n",
       "    }\n",
       "\n",
       "    .dataframe tbody tr th {\n",
       "        vertical-align: top;\n",
       "    }\n",
       "\n",
       "    .dataframe thead th {\n",
       "        text-align: right;\n",
       "    }\n",
       "</style>\n",
       "<table border=\"1\" class=\"dataframe\">\n",
       "  <thead>\n",
       "    <tr style=\"text-align: right;\">\n",
       "      <th></th>\n",
       "      <th>time</th>\n",
       "      <th>condition</th>\n",
       "      <th>epoch</th>\n",
       "      <th>F7</th>\n",
       "      <th>F3</th>\n",
       "      <th>Fz</th>\n",
       "      <th>FC5</th>\n",
       "      <th>FC1</th>\n",
       "      <th>T7</th>\n",
       "      <th>C3</th>\n",
       "      <th>...</th>\n",
       "      <th>FC3</th>\n",
       "      <th>FCz</th>\n",
       "      <th>C5</th>\n",
       "      <th>C1</th>\n",
       "      <th>CP3</th>\n",
       "      <th>P5</th>\n",
       "      <th>P1</th>\n",
       "      <th>FT7</th>\n",
       "      <th>TP7</th>\n",
       "      <th>codelabel</th>\n",
       "    </tr>\n",
       "  </thead>\n",
       "  <tbody>\n",
       "    <tr>\n",
       "      <th>0</th>\n",
       "      <td>-3.000000</td>\n",
       "      <td>0/0/B1(111)</td>\n",
       "      <td>0</td>\n",
       "      <td>-28.969856</td>\n",
       "      <td>-4.137545</td>\n",
       "      <td>-0.255840</td>\n",
       "      <td>-9.641929</td>\n",
       "      <td>-2.538495</td>\n",
       "      <td>-6.198280</td>\n",
       "      <td>-2.303777</td>\n",
       "      <td>...</td>\n",
       "      <td>-2.545691</td>\n",
       "      <td>-0.849673</td>\n",
       "      <td>-1.208414</td>\n",
       "      <td>-1.937044</td>\n",
       "      <td>0.538882</td>\n",
       "      <td>2.164967</td>\n",
       "      <td>1.455608</td>\n",
       "      <td>-0.315933</td>\n",
       "      <td>-8.471616</td>\n",
       "      <td>0</td>\n",
       "    </tr>\n",
       "    <tr>\n",
       "      <th>1</th>\n",
       "      <td>-2.999023</td>\n",
       "      <td>0/0/B1(111)</td>\n",
       "      <td>0</td>\n",
       "      <td>-28.903843</td>\n",
       "      <td>-4.122650</td>\n",
       "      <td>-0.257706</td>\n",
       "      <td>-9.633248</td>\n",
       "      <td>-2.541231</td>\n",
       "      <td>-6.191755</td>\n",
       "      <td>-2.311632</td>\n",
       "      <td>...</td>\n",
       "      <td>-2.539751</td>\n",
       "      <td>-0.852515</td>\n",
       "      <td>-1.234916</td>\n",
       "      <td>-1.939596</td>\n",
       "      <td>0.529298</td>\n",
       "      <td>2.160731</td>\n",
       "      <td>1.463335</td>\n",
       "      <td>-0.232176</td>\n",
       "      <td>-8.480064</td>\n",
       "      <td>0</td>\n",
       "    </tr>\n",
       "    <tr>\n",
       "      <th>2</th>\n",
       "      <td>-2.998047</td>\n",
       "      <td>0/0/B1(111)</td>\n",
       "      <td>0</td>\n",
       "      <td>-28.825142</td>\n",
       "      <td>-4.105039</td>\n",
       "      <td>-0.260104</td>\n",
       "      <td>-9.622827</td>\n",
       "      <td>-2.544465</td>\n",
       "      <td>-6.183642</td>\n",
       "      <td>-2.320876</td>\n",
       "      <td>...</td>\n",
       "      <td>-2.532714</td>\n",
       "      <td>-0.855877</td>\n",
       "      <td>-1.266197</td>\n",
       "      <td>-1.942527</td>\n",
       "      <td>0.517940</td>\n",
       "      <td>2.155664</td>\n",
       "      <td>1.472435</td>\n",
       "      <td>-0.132545</td>\n",
       "      <td>-8.489736</td>\n",
       "      <td>1</td>\n",
       "    </tr>\n",
       "    <tr>\n",
       "      <th>3</th>\n",
       "      <td>-2.997070</td>\n",
       "      <td>0/0/B1(111)</td>\n",
       "      <td>0</td>\n",
       "      <td>-28.750874</td>\n",
       "      <td>-4.088592</td>\n",
       "      <td>-0.262575</td>\n",
       "      <td>-9.612904</td>\n",
       "      <td>-2.547488</td>\n",
       "      <td>-6.175588</td>\n",
       "      <td>-2.329464</td>\n",
       "      <td>...</td>\n",
       "      <td>-2.526122</td>\n",
       "      <td>-0.859026</td>\n",
       "      <td>-1.295355</td>\n",
       "      <td>-1.945159</td>\n",
       "      <td>0.507298</td>\n",
       "      <td>2.150860</td>\n",
       "      <td>1.480893</td>\n",
       "      <td>-0.038761</td>\n",
       "      <td>-8.498386</td>\n",
       "      <td>0</td>\n",
       "    </tr>\n",
       "    <tr>\n",
       "      <th>4</th>\n",
       "      <td>-2.996094</td>\n",
       "      <td>0/0/B1(111)</td>\n",
       "      <td>0</td>\n",
       "      <td>-28.671953</td>\n",
       "      <td>-4.071247</td>\n",
       "      <td>-0.265370</td>\n",
       "      <td>-9.602285</td>\n",
       "      <td>-2.550681</td>\n",
       "      <td>-6.166713</td>\n",
       "      <td>-2.338484</td>\n",
       "      <td>...</td>\n",
       "      <td>-2.519155</td>\n",
       "      <td>-0.862355</td>\n",
       "      <td>-1.326064</td>\n",
       "      <td>-1.947852</td>\n",
       "      <td>0.496047</td>\n",
       "      <td>2.145736</td>\n",
       "      <td>1.489783</td>\n",
       "      <td>0.060720</td>\n",
       "      <td>-8.507207</td>\n",
       "      <td>0</td>\n",
       "    </tr>\n",
       "    <tr>\n",
       "      <th>...</th>\n",
       "      <td>...</td>\n",
       "      <td>...</td>\n",
       "      <td>...</td>\n",
       "      <td>...</td>\n",
       "      <td>...</td>\n",
       "      <td>...</td>\n",
       "      <td>...</td>\n",
       "      <td>...</td>\n",
       "      <td>...</td>\n",
       "      <td>...</td>\n",
       "      <td>...</td>\n",
       "      <td>...</td>\n",
       "      <td>...</td>\n",
       "      <td>...</td>\n",
       "      <td>...</td>\n",
       "      <td>...</td>\n",
       "      <td>...</td>\n",
       "      <td>...</td>\n",
       "      <td>...</td>\n",
       "      <td>...</td>\n",
       "      <td>...</td>\n",
       "    </tr>\n",
       "    <tr>\n",
       "      <th>457</th>\n",
       "      <td>-2.553711</td>\n",
       "      <td>0/0/B1(111)</td>\n",
       "      <td>0</td>\n",
       "      <td>8.679171</td>\n",
       "      <td>5.863000</td>\n",
       "      <td>2.315423</td>\n",
       "      <td>-0.502896</td>\n",
       "      <td>2.090754</td>\n",
       "      <td>-3.036660</td>\n",
       "      <td>3.410460</td>\n",
       "      <td>...</td>\n",
       "      <td>3.730740</td>\n",
       "      <td>2.696402</td>\n",
       "      <td>-1.366479</td>\n",
       "      <td>1.574120</td>\n",
       "      <td>2.009455</td>\n",
       "      <td>-0.678801</td>\n",
       "      <td>0.180952</td>\n",
       "      <td>-5.784262</td>\n",
       "      <td>-2.928797</td>\n",
       "      <td>0</td>\n",
       "    </tr>\n",
       "    <tr>\n",
       "      <th>458</th>\n",
       "      <td>-2.552734</td>\n",
       "      <td>0/0/B1(111)</td>\n",
       "      <td>0</td>\n",
       "      <td>8.734139</td>\n",
       "      <td>5.897024</td>\n",
       "      <td>2.340048</td>\n",
       "      <td>-0.472778</td>\n",
       "      <td>2.100465</td>\n",
       "      <td>-3.021600</td>\n",
       "      <td>3.425903</td>\n",
       "      <td>...</td>\n",
       "      <td>3.744581</td>\n",
       "      <td>2.699100</td>\n",
       "      <td>-1.357450</td>\n",
       "      <td>1.569355</td>\n",
       "      <td>2.023538</td>\n",
       "      <td>-0.671098</td>\n",
       "      <td>0.175322</td>\n",
       "      <td>-5.822018</td>\n",
       "      <td>-2.918742</td>\n",
       "      <td>3</td>\n",
       "    </tr>\n",
       "    <tr>\n",
       "      <th>459</th>\n",
       "      <td>-2.551758</td>\n",
       "      <td>0/0/B1(111)</td>\n",
       "      <td>0</td>\n",
       "      <td>8.789356</td>\n",
       "      <td>5.930980</td>\n",
       "      <td>2.364521</td>\n",
       "      <td>-0.442625</td>\n",
       "      <td>2.109986</td>\n",
       "      <td>-3.006087</td>\n",
       "      <td>3.441116</td>\n",
       "      <td>...</td>\n",
       "      <td>3.758270</td>\n",
       "      <td>2.701607</td>\n",
       "      <td>-1.348618</td>\n",
       "      <td>1.564448</td>\n",
       "      <td>2.037477</td>\n",
       "      <td>-0.663358</td>\n",
       "      <td>0.169696</td>\n",
       "      <td>-5.858509</td>\n",
       "      <td>-2.908505</td>\n",
       "      <td>0</td>\n",
       "    </tr>\n",
       "    <tr>\n",
       "      <th>460</th>\n",
       "      <td>-2.550781</td>\n",
       "      <td>0/0/B1(111)</td>\n",
       "      <td>0</td>\n",
       "      <td>8.844829</td>\n",
       "      <td>5.964865</td>\n",
       "      <td>2.388838</td>\n",
       "      <td>-0.412435</td>\n",
       "      <td>2.119316</td>\n",
       "      <td>-2.990114</td>\n",
       "      <td>3.456097</td>\n",
       "      <td>...</td>\n",
       "      <td>3.771809</td>\n",
       "      <td>2.703922</td>\n",
       "      <td>-1.339978</td>\n",
       "      <td>1.559397</td>\n",
       "      <td>2.051273</td>\n",
       "      <td>-0.655587</td>\n",
       "      <td>0.164073</td>\n",
       "      <td>-5.893715</td>\n",
       "      <td>-2.898086</td>\n",
       "      <td>0</td>\n",
       "    </tr>\n",
       "    <tr>\n",
       "      <th>461</th>\n",
       "      <td>-2.549805</td>\n",
       "      <td>0/0/B1(111)</td>\n",
       "      <td>0</td>\n",
       "      <td>8.900562</td>\n",
       "      <td>5.998679</td>\n",
       "      <td>2.412998</td>\n",
       "      <td>-0.382202</td>\n",
       "      <td>2.128458</td>\n",
       "      <td>-2.973676</td>\n",
       "      <td>3.470848</td>\n",
       "      <td>...</td>\n",
       "      <td>3.785199</td>\n",
       "      <td>2.706043</td>\n",
       "      <td>-1.331530</td>\n",
       "      <td>1.554205</td>\n",
       "      <td>2.064924</td>\n",
       "      <td>-0.647784</td>\n",
       "      <td>0.158451</td>\n",
       "      <td>-5.927636</td>\n",
       "      <td>-2.887482</td>\n",
       "      <td>0</td>\n",
       "    </tr>\n",
       "  </tbody>\n",
       "</table>\n",
       "<p>462 rows × 28 columns</p>\n",
       "</div>"
      ],
      "text/plain": [
       "         time    condition  epoch         F7        F3        Fz       FC5  \\\n",
       "0   -3.000000  0/0/B1(111)      0 -28.969856 -4.137545 -0.255840 -9.641929   \n",
       "1   -2.999023  0/0/B1(111)      0 -28.903843 -4.122650 -0.257706 -9.633248   \n",
       "2   -2.998047  0/0/B1(111)      0 -28.825142 -4.105039 -0.260104 -9.622827   \n",
       "3   -2.997070  0/0/B1(111)      0 -28.750874 -4.088592 -0.262575 -9.612904   \n",
       "4   -2.996094  0/0/B1(111)      0 -28.671953 -4.071247 -0.265370 -9.602285   \n",
       "..        ...          ...    ...        ...       ...       ...       ...   \n",
       "457 -2.553711  0/0/B1(111)      0   8.679171  5.863000  2.315423 -0.502896   \n",
       "458 -2.552734  0/0/B1(111)      0   8.734139  5.897024  2.340048 -0.472778   \n",
       "459 -2.551758  0/0/B1(111)      0   8.789356  5.930980  2.364521 -0.442625   \n",
       "460 -2.550781  0/0/B1(111)      0   8.844829  5.964865  2.388838 -0.412435   \n",
       "461 -2.549805  0/0/B1(111)      0   8.900562  5.998679  2.412998 -0.382202   \n",
       "\n",
       "          FC1        T7        C3  ...       FC3       FCz        C5  \\\n",
       "0   -2.538495 -6.198280 -2.303777  ... -2.545691 -0.849673 -1.208414   \n",
       "1   -2.541231 -6.191755 -2.311632  ... -2.539751 -0.852515 -1.234916   \n",
       "2   -2.544465 -6.183642 -2.320876  ... -2.532714 -0.855877 -1.266197   \n",
       "3   -2.547488 -6.175588 -2.329464  ... -2.526122 -0.859026 -1.295355   \n",
       "4   -2.550681 -6.166713 -2.338484  ... -2.519155 -0.862355 -1.326064   \n",
       "..        ...       ...       ...  ...       ...       ...       ...   \n",
       "457  2.090754 -3.036660  3.410460  ...  3.730740  2.696402 -1.366479   \n",
       "458  2.100465 -3.021600  3.425903  ...  3.744581  2.699100 -1.357450   \n",
       "459  2.109986 -3.006087  3.441116  ...  3.758270  2.701607 -1.348618   \n",
       "460  2.119316 -2.990114  3.456097  ...  3.771809  2.703922 -1.339978   \n",
       "461  2.128458 -2.973676  3.470848  ...  3.785199  2.706043 -1.331530   \n",
       "\n",
       "           C1       CP3        P5        P1       FT7       TP7  codelabel  \n",
       "0   -1.937044  0.538882  2.164967  1.455608 -0.315933 -8.471616          0  \n",
       "1   -1.939596  0.529298  2.160731  1.463335 -0.232176 -8.480064          0  \n",
       "2   -1.942527  0.517940  2.155664  1.472435 -0.132545 -8.489736          1  \n",
       "3   -1.945159  0.507298  2.150860  1.480893 -0.038761 -8.498386          0  \n",
       "4   -1.947852  0.496047  2.145736  1.489783  0.060720 -8.507207          0  \n",
       "..        ...       ...       ...       ...       ...       ...        ...  \n",
       "457  1.574120  2.009455 -0.678801  0.180952 -5.784262 -2.928797          0  \n",
       "458  1.569355  2.023538 -0.671098  0.175322 -5.822018 -2.918742          3  \n",
       "459  1.564448  2.037477 -0.663358  0.169696 -5.858509 -2.908505          0  \n",
       "460  1.559397  2.051273 -0.655587  0.164073 -5.893715 -2.898086          0  \n",
       "461  1.554205  2.064924 -0.647784  0.158451 -5.927636 -2.887482          0  \n",
       "\n",
       "[462 rows x 28 columns]"
      ]
     },
     "execution_count": 140,
     "metadata": {},
     "output_type": "execute_result"
    }
   ],
   "source": [
    "df2"
   ]
  },
  {
   "cell_type": "code",
   "execution_count": 141,
   "metadata": {
    "id": "feShnfl9wqBK"
   },
   "outputs": [],
   "source": [
    "from sklearn.model_selection import train_test_split\n",
    "from sklearn.preprocessing import StandardScaler\n",
    "\n",
    "X = df2.drop(columns=['epoch','time','condition', 'codelabel'])\n",
    "y = df2['codelabel']\n",
    "\n",
    "X_train, X_test, y_train, y_test = train_test_split(X, y, test_size=0.3, random_state=0)"
   ]
  },
  {
   "cell_type": "code",
   "execution_count": 147,
   "metadata": {
    "colab": {
     "base_uri": "https://localhost:8080/"
    },
    "id": "bWjhtQ_ljKZY",
    "outputId": "cc479e2d-0e52-4ffe-f1af-de319c40ecdb"
   },
   "outputs": [
    {
     "name": "stdout",
     "output_type": "stream",
     "text": [
      "Epoch 1/10\n",
      "\u001b[1m11/11\u001b[0m \u001b[32m━━━━━━━━━━━━━━━━━━━━\u001b[0m\u001b[37m\u001b[0m \u001b[1m1s\u001b[0m 19ms/step - accuracy: 0.3512 - loss: 1.4540 - val_accuracy: 0.8417 - val_loss: 0.8548\n",
      "Epoch 2/10\n",
      "\u001b[1m11/11\u001b[0m \u001b[32m━━━━━━━━━━━━━━━━━━━━\u001b[0m\u001b[37m\u001b[0m \u001b[1m0s\u001b[0m 5ms/step - accuracy: 0.7985 - loss: 0.8062 - val_accuracy: 0.8417 - val_loss: 0.5949\n",
      "Epoch 3/10\n",
      "\u001b[1m11/11\u001b[0m \u001b[32m━━━━━━━━━━━━━━━━━━━━\u001b[0m\u001b[37m\u001b[0m \u001b[1m0s\u001b[0m 6ms/step - accuracy: 0.7857 - loss: 0.6553 - val_accuracy: 0.8417 - val_loss: 0.5345\n",
      "Epoch 4/10\n",
      "\u001b[1m11/11\u001b[0m \u001b[32m━━━━━━━━━━━━━━━━━━━━\u001b[0m\u001b[37m\u001b[0m \u001b[1m0s\u001b[0m 6ms/step - accuracy: 0.7717 - loss: 0.6479 - val_accuracy: 0.8417 - val_loss: 0.5176\n",
      "Epoch 5/10\n",
      "\u001b[1m11/11\u001b[0m \u001b[32m━━━━━━━━━━━━━━━━━━━━\u001b[0m\u001b[37m\u001b[0m \u001b[1m0s\u001b[0m 7ms/step - accuracy: 0.7720 - loss: 0.6297 - val_accuracy: 0.8417 - val_loss: 0.5010\n",
      "Epoch 6/10\n",
      "\u001b[1m11/11\u001b[0m \u001b[32m━━━━━━━━━━━━━━━━━━━━\u001b[0m\u001b[37m\u001b[0m \u001b[1m0s\u001b[0m 5ms/step - accuracy: 0.7832 - loss: 0.5894 - val_accuracy: 0.8417 - val_loss: 0.4975\n",
      "Epoch 7/10\n",
      "\u001b[1m11/11\u001b[0m \u001b[32m━━━━━━━━━━━━━━━━━━━━\u001b[0m\u001b[37m\u001b[0m \u001b[1m0s\u001b[0m 6ms/step - accuracy: 0.7897 - loss: 0.5787 - val_accuracy: 0.8417 - val_loss: 0.4964\n",
      "Epoch 8/10\n",
      "\u001b[1m11/11\u001b[0m \u001b[32m━━━━━━━━━━━━━━━━━━━━\u001b[0m\u001b[37m\u001b[0m \u001b[1m0s\u001b[0m 7ms/step - accuracy: 0.7710 - loss: 0.5950 - val_accuracy: 0.8417 - val_loss: 0.5029\n",
      "Epoch 9/10\n",
      "\u001b[1m11/11\u001b[0m \u001b[32m━━━━━━━━━━━━━━━━━━━━\u001b[0m\u001b[37m\u001b[0m \u001b[1m0s\u001b[0m 6ms/step - accuracy: 0.7583 - loss: 0.6181 - val_accuracy: 0.8417 - val_loss: 0.4967\n",
      "Epoch 10/10\n",
      "\u001b[1m11/11\u001b[0m \u001b[32m━━━━━━━━━━━━━━━━━━━━\u001b[0m\u001b[37m\u001b[0m \u001b[1m0s\u001b[0m 7ms/step - accuracy: 0.7895 - loss: 0.5552 - val_accuracy: 0.8417 - val_loss: 0.4976\n"
     ]
    },
    {
     "data": {
      "text/plain": [
       "<keras.src.callbacks.history.History at 0x293a36165e0>"
      ]
     },
     "execution_count": 147,
     "metadata": {},
     "output_type": "execute_result"
    }
   ],
   "source": [
    "from keras.models import Sequential\n",
    "from keras.layers import Dense, Dropout, Input\n",
    "\n",
    "# Создание нейронной сети\n",
    "model = Sequential()\n",
    "model.add(Input(shape=(X_train.shape[1],)))\n",
    "model.add(Dense(128, activation='relu'))\n",
    "model.add(Dense(4, activation='softmax'))\n",
    "\n",
    "# Компиляция модели\n",
    "model.compile(optimizer='adam', loss='sparse_categorical_crossentropy', metrics=['accuracy'])\n",
    "\n",
    "y_train = y_train.astype('int32')\n",
    "y_test = y_test.astype('int32')\n",
    "X_train = X_train.astype('float32')\n",
    "X_test = X_test.astype('float32')\n",
    "\n",
    "scaler = StandardScaler()\n",
    "X_train = scaler.fit_transform(X_train)\n",
    "X_test = scaler.transform(X_test)\n",
    "\n",
    "# Обучение модели\n",
    "model.fit(X_train, y_train, validation_data=(X_test, y_test), epochs=10)"
   ]
  },
  {
   "cell_type": "code",
   "execution_count": 150,
   "metadata": {},
   "outputs": [
    {
     "name": "stdout",
     "output_type": "stream",
     "text": [
      "Accuracy: 0.84\n",
      "Confusion Matrix:\n",
      "[[117   0   0   0]\n",
      " [  8   0   0   0]\n",
      " [  6   0   0   0]\n",
      " [  8   0   0   0]]\n",
      "Classification Report:\n",
      "              precision    recall  f1-score   support\n",
      "\n",
      "           0       0.84      1.00      0.91       117\n",
      "           1       0.00      0.00      0.00         8\n",
      "           2       0.00      0.00      0.00         6\n",
      "           3       0.00      0.00      0.00         8\n",
      "\n",
      "    accuracy                           0.84       139\n",
      "   macro avg       0.21      0.25      0.23       139\n",
      "weighted avg       0.71      0.84      0.77       139\n",
      "\n"
     ]
    },
    {
     "name": "stderr",
     "output_type": "stream",
     "text": [
      "D:\\Development\\EEG ANALITICS\\env\\lib\\site-packages\\sklearn\\metrics\\_classification.py:1531: UndefinedMetricWarning: Precision is ill-defined and being set to 0.0 in labels with no predicted samples. Use `zero_division` parameter to control this behavior.\n",
      "  _warn_prf(average, modifier, f\"{metric.capitalize()} is\", len(result))\n",
      "D:\\Development\\EEG ANALITICS\\env\\lib\\site-packages\\sklearn\\metrics\\_classification.py:1531: UndefinedMetricWarning: Precision is ill-defined and being set to 0.0 in labels with no predicted samples. Use `zero_division` parameter to control this behavior.\n",
      "  _warn_prf(average, modifier, f\"{metric.capitalize()} is\", len(result))\n",
      "D:\\Development\\EEG ANALITICS\\env\\lib\\site-packages\\sklearn\\metrics\\_classification.py:1531: UndefinedMetricWarning: Precision is ill-defined and being set to 0.0 in labels with no predicted samples. Use `zero_division` parameter to control this behavior.\n",
      "  _warn_prf(average, modifier, f\"{metric.capitalize()} is\", len(result))\n"
     ]
    }
   ],
   "source": [
    "from sklearn.tree import DecisionTreeClassifier\n",
    "from sklearn.svm import SVC\n",
    "from sklearn.metrics import accuracy_score, classification_report, confusion_matrix\n",
    "\n",
    "model_tree = SVC(kernel='linear') \n",
    "model_tree.fit(X_train, y_train)\n",
    "y_pred = model_tree.predict(X_test)\n",
    "# Оценка модели\n",
    "accuracy = accuracy_score(y_test, y_pred)\n",
    "print(f'Accuracy: {accuracy:.2f}')\n",
    "\n",
    "# Дополнительные метрики\n",
    "print(\"Confusion Matrix:\")\n",
    "print(confusion_matrix(y_test, y_pred))\n",
    "print(\"Classification Report:\")\n",
    "print(classification_report(y_test, y_pred))"
   ]
  },
  {
   "cell_type": "code",
   "execution_count": 120,
   "metadata": {
    "colab": {
     "base_uri": "https://localhost:8080/"
    },
    "id": "WyRJgJ4Aw48F",
    "outputId": "425bf9b6-126b-4829-8207-001204995a8c"
   },
   "outputs": [
    {
     "name": "stdout",
     "output_type": "stream",
     "text": [
      "\u001b[1m5/5\u001b[0m \u001b[32m━━━━━━━━━━━━━━━━━━━━\u001b[0m\u001b[37m\u001b[0m \u001b[1m0s\u001b[0m 4ms/step - accuracy: 0.8483 - loss: 0.5295\n",
      "Loss: 0.5160\n",
      "Accuracy: 0.8417\n"
     ]
    }
   ],
   "source": [
    "loss, accuracy = model.evaluate(X_test, y_test)\n",
    "\n",
    "print(f'Loss: {loss:.4f}')\n",
    "print(f'Accuracy: {accuracy:.4f}')"
   ]
  },
  {
   "cell_type": "code",
   "execution_count": 121,
   "metadata": {
    "id": "23njaVnTlMd_"
   },
   "outputs": [],
   "source": [
    "model.save('model.keras')"
   ]
  },
  {
   "cell_type": "code",
   "execution_count": 131,
   "metadata": {},
   "outputs": [],
   "source": [
    "def get_act_name(code):\n",
    "    if code  == 0:\n",
    "        return \"s0\"\n",
    "    elif code == 1:\n",
    "        return \"stf\"\n",
    "    elif code == 2:\n",
    "        return \"sts\"\n",
    "    elif code == 3:\n",
    "        return \"stl\""
   ]
  },
  {
   "cell_type": "code",
   "execution_count": 151,
   "metadata": {},
   "outputs": [
    {
     "name": "stdout",
     "output_type": "stream",
     "text": [
      "predicted num is `s0` and correct num is `stl`\n"
     ]
    }
   ],
   "source": [
    "test_num = 19\n",
    "predicted = get_act_name(np.argmax(model.predict(X_test[test_num].reshape(1, 24))))\n",
    "correct = get_act_name(list(y_test)[test_num])\n",
    "print(f\"predicted num is `{predicted}` and correct num is `{correct}`\")"
   ]
  },
  {
   "cell_type": "code",
   "execution_count": 113,
   "metadata": {
    "colab": {
     "base_uri": "https://localhost:8080/"
    },
    "id": "gH2KXjBAlIIP",
    "outputId": "6443c40c-77fb-4acb-baa4-a40adbb87081"
   },
   "outputs": [
    {
     "name": "stdout",
     "output_type": "stream",
     "text": [
      "INFO:tensorflow:Assets written to: C:\\Users\\Kiselev\\AppData\\Local\\Temp\\1\\tmpxcey7ze0\\assets\n"
     ]
    },
    {
     "name": "stderr",
     "output_type": "stream",
     "text": [
      "INFO:tensorflow:Assets written to: C:\\Users\\Kiselev\\AppData\\Local\\Temp\\1\\tmpxcey7ze0\\assets\n"
     ]
    },
    {
     "name": "stdout",
     "output_type": "stream",
     "text": [
      "Saved artifact at 'C:\\Users\\Kiselev\\AppData\\Local\\Temp\\1\\tmpxcey7ze0'. The following endpoints are available:\n",
      "\n",
      "* Endpoint 'serve'\n",
      "  args_0 (POSITIONAL_ONLY): TensorSpec(shape=(None, 24), dtype=tf.float32, name='keras_tensor_12')\n",
      "Output Type:\n",
      "  TensorSpec(shape=(None, 4), dtype=tf.float32, name=None)\n",
      "Captures:\n",
      "  2833068680112: TensorSpec(shape=(), dtype=tf.resource, name=None)\n",
      "  2833050998560: TensorSpec(shape=(), dtype=tf.resource, name=None)\n",
      "  2833553463600: TensorSpec(shape=(), dtype=tf.resource, name=None)\n",
      "  2833553464832: TensorSpec(shape=(), dtype=tf.resource, name=None)\n"
     ]
    }
   ],
   "source": [
    "# # Загрузка модели\n",
    "# model = tf.keras.models.load_model('model.keras')\n",
    "\n",
    "# Инициализация конвертера\n",
    "converter = tf.lite.TFLiteConverter.from_keras_model(model)\n",
    "\n",
    "# Конвертация в формат TFLite\n",
    "tflite_model = converter.convert()\n",
    "\n",
    "# Сохранение TFLite модели в файл\n",
    "with open('model.tflite', 'wb') as f:\n",
    "    f.write(tflite_model)"
   ]
  },
  {
   "cell_type": "code",
   "execution_count": 114,
   "metadata": {
    "colab": {
     "base_uri": "https://localhost:8080/"
    },
    "id": "D9PIBpHp0ocM",
    "outputId": "d81c5faf-2fbc-438f-fe1c-354362f5886a"
   },
   "outputs": [
    {
     "name": "stdout",
     "output_type": "stream",
     "text": [
      "Размер файла: 9152 байт\n"
     ]
    }
   ],
   "source": [
    "file_size = os.path.getsize(\"./model.tflite\")\n",
    "\n",
    "# Вывод размера файла\n",
    "print(f\"Размер файла: {file_size} байт\")"
   ]
  },
  {
   "cell_type": "code",
   "execution_count": 115,
   "metadata": {
    "colab": {
     "base_uri": "https://localhost:8080/"
    },
    "id": "m9bCJJVljgLu",
    "outputId": "d4b99c09-98b9-4300-f9ca-c5149a07e601"
   },
   "outputs": [
    {
     "name": "stdout",
     "output_type": "stream",
     "text": [
      "[ 1 24]\n"
     ]
    }
   ],
   "source": [
    "model_path= \"model.tflite\"\n",
    "\n",
    "interpreter = tf.lite.Interpreter(model_path=model_path)\n",
    "\n",
    "\n",
    "interpreter.allocate_tensors()\n",
    "input_details = interpreter.get_input_details()\n",
    "print(input_details[0]['shape'])\n",
    "output_details = interpreter.get_output_details()\n",
    "input_shape = input_details[0]['shape']"
   ]
  },
  {
   "cell_type": "code",
   "execution_count": 117,
   "metadata": {
    "colab": {
     "base_uri": "https://localhost:8080/"
    },
    "id": "0zonM_P0mhtU",
    "outputId": "67cc668e-35ce-42bb-df89-09c6b922e8d6"
   },
   "outputs": [
    {
     "name": "stdout",
     "output_type": "stream",
     "text": [
      "data on input: [ 1.2075263   1.7418103   1.8990794   1.6007686   1.8169459  -0.32188284\n",
      "  1.8492963   1.7219074  -0.04727307  1.7055408  -0.87768924 -1.1796374\n",
      " -1.7522906   1.381032    1.945708    1.7226847   1.7566726   1.5064378\n",
      "  1.3861762   1.878178   -0.8627352  -1.7587407  -1.716121    1.1047686 ]\n",
      "It has action: stl\n",
      "Input details: [{'name': 'serving_default_keras_tensor_12:0', 'index': 0, 'shape': array([ 1, 24]), 'shape_signature': array([-1, 24]), 'dtype': <class 'numpy.float32'>, 'quantization': (0.0, 0), 'quantization_parameters': {'scales': array([], dtype=float32), 'zero_points': array([], dtype=int32), 'quantized_dimension': 0}, 'sparsity_parameters': {}}]\n",
      "Predicted output: [[0.8406498  0.00273563 0.00723652 0.14937805]]\n",
      "0\n"
     ]
    }
   ],
   "source": [
    "#input_data = np.array(np.random.random_sample(input_shape), dtype=np.float32)\n",
    "input_data = X_test[19]\n",
    "print(f\"data on input: {input_data}\")\n",
    "print(f\"It has action: {get_act_name(list(y_test)[19])}\")\n",
    "input_reshaped = input_data.reshape(input_shape)\n",
    "\n",
    "# входные данные\n",
    "interpreter.set_tensor(input_details[0]['index'], input_reshaped)\n",
    "print(\"Input details:\", input_details)\n",
    "#  предсказание\n",
    "interpreter.invoke()\n",
    "\n",
    "# выходные данные\n",
    "output_data = interpreter.get_tensor(output_details[0]['index'])\n",
    "\n",
    "print(\"Predicted output:\", output_data)\n",
    "index_max = np.argmax(output_data)\n",
    "print(index_max)"
   ]
  },
  {
   "cell_type": "code",
   "execution_count": 118,
   "metadata": {
    "id": "_jUfuJX7sTtB"
   },
   "outputs": [],
   "source": [
    "np.savetxt('X_test.csv', X_test, delimiter=',', fmt='%f', header='', comments='')"
   ]
  },
  {
   "cell_type": "code",
   "execution_count": null,
   "metadata": {},
   "outputs": [],
   "source": []
  }
 ],
 "metadata": {
  "colab": {
   "provenance": []
  },
  "kernelspec": {
   "display_name": "EEG (env)",
   "language": "python",
   "name": "env"
  },
  "language_info": {
   "codemirror_mode": {
    "name": "ipython",
    "version": 3
   },
   "file_extension": ".py",
   "mimetype": "text/x-python",
   "name": "python",
   "nbconvert_exporter": "python",
   "pygments_lexer": "ipython3",
   "version": "3.9.13"
  }
 },
 "nbformat": 4,
 "nbformat_minor": 4
}
