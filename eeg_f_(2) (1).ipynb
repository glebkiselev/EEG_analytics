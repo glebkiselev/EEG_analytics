{
 "cells": [
  {
   "cell_type": "code",
   "execution_count": 1,
   "metadata": {
    "id": "jYm054ImxNt-"
   },
   "outputs": [],
   "source": [
    "import mne\n",
    "import pandas as pd\n",
    "import numpy as np\n",
    "import tensorflow as tf\n",
    "from sklearn.linear_model import LogisticRegression\n",
    "from sklearn.preprocessing import StandardScaler\n",
    "from sklearn.model_selection import train_test_split\n",
    "from sklearn.metrics import accuracy_score\n",
    "from keras.layers import Conv1D, MaxPooling1D, Flatten\n",
    "from keras.metrics import Precision, Recall"
   ]
  },
  {
   "cell_type": "code",
   "execution_count": 2,
   "metadata": {
    "colab": {
     "base_uri": "https://localhost:8080/"
    },
    "id": "CH-hQbV3yT2S",
    "outputId": "44031418-453e-4aa1-8031-ddb2e2f1fa16"
   },
   "outputs": [
    {
     "name": "stdout",
     "output_type": "stream",
     "text": [
      "['p002_MI_markers_elist_f_cf pruned with ICA_bins_impel_be.fdt', 'p002_MI_markers_elist_f_cf pruned with ICA_bins_impel_be.set', 'p002_MI_markers_elist_f_cf pruned with ICA_bins_impel_be_ar.fdt', 'p002_MI_markers_elist_f_cf pruned with ICA_bins_impel_be_ar.set', 'p002_MI_withbins.set', 'test01.txt', 'test04.txt']\n"
     ]
    }
   ],
   "source": [
    "import os\n",
    "\n",
    "print(os.listdir(\"./data/\"))\n",
    "filepath = './data/p002_MI_withbins.set'"
   ]
  },
  {
   "cell_type": "code",
   "execution_count": 3,
   "metadata": {
    "colab": {
     "base_uri": "https://localhost:8080/",
     "height": 583
    },
    "id": "sByVrUBzt8IB",
    "outputId": "824cb23f-9750-4e67-918a-45dc4f897065"
   },
   "outputs": [
    {
     "name": "stdout",
     "output_type": "stream",
     "text": [
      "Extracting parameters from D:\\Development\\EEG ANALITICS\\data\\p002_MI_withbins.set...\n",
      "Not setting metadata\n",
      "90 matching events found\n",
      "No baseline correction applied\n",
      "0 projection items activated\n",
      "Ready.\n"
     ]
    },
    {
     "name": "stderr",
     "output_type": "stream",
     "text": [
      "C:\\Users\\Kiselev\\AppData\\Local\\Temp\\1\\ipykernel_10988\\2379057301.py:1: RuntimeWarning: At least one epoch has multiple events. Only the latency of the first event will be retained.\n",
      "  epochs = mne.read_epochs_eeglab(filepath)\n"
     ]
    }
   ],
   "source": [
    "epochs = mne.read_epochs_eeglab(filepath)\n",
    "df = epochs.to_data_frame()"
   ]
  },
  {
   "cell_type": "code",
   "execution_count": 4,
   "metadata": {},
   "outputs": [],
   "source": [
    "from scipy.io import loadmat\n",
    "\n",
    "def mat_struct_to_dict(mat_struct_obj):\n",
    "    return {field: getattr(mat_struct_obj, field) for field in mat_struct_obj._fieldnames}\n",
    "eeglab_data = loadmat(filepath, struct_as_record=False, squeeze_me=True)\n",
    "\n",
    "events_data = eeglab_data['event']\n",
    "df['codelabel'] = pd.NA\n",
    "for i, event in enumerate(events_data):\n",
    "    label = mat_struct_to_dict(event)['codelabel']\n",
    "    df.loc[i, \"codelabel\"] = label"
   ]
  },
  {
   "cell_type": "code",
   "execution_count": 5,
   "metadata": {},
   "outputs": [
    {
     "data": {
      "text/plain": [
       "0       s0\n",
       "1       s0\n",
       "2      stf\n",
       "3       s0\n",
       "4       s0\n",
       "      ... \n",
       "457     s0\n",
       "458    stl\n",
       "459     s0\n",
       "460     s0\n",
       "461     s0\n",
       "Name: codelabel, Length: 462, dtype: object"
      ]
     },
     "execution_count": 5,
     "metadata": {},
     "output_type": "execute_result"
    }
   ],
   "source": [
    "df = df.dropna()\n",
    "df[\"codelabel\"]"
   ]
  },
  {
   "cell_type": "code",
   "execution_count": 28,
   "metadata": {},
   "outputs": [],
   "source": [
    "# двигает рукой\n",
    "stf = []\n",
    "# частично двигает рукой\n",
    "sts = []\n",
    "# не двигает рукой - но представляет\n",
    "stl = []\n",
    "# не двигает вообще\n",
    "s0 = []\n",
    "for index, row in df.iterrows():\n",
    "  if 'stf' in row['codelabel']:\n",
    "   stf.append(index)\n",
    "  elif 'sts' in row['codelabel']:\n",
    "    sts.append(index)\n",
    "  elif 'stl' in row['codelabel']:\n",
    "    stl.append(index)\n",
    "  elif 's0' in row['codelabel']:\n",
    "    s0.append(index)\n",
    "s0 = s0[:20]"
   ]
  },
  {
   "cell_type": "code",
   "execution_count": 29,
   "metadata": {
    "id": "9NR12GUjEzET"
   },
   "outputs": [],
   "source": [
    "df2 = df.drop('codelabel', axis=1)\n",
    "df2['codelabel'] = pd.NA\n",
    "for el in s0:\n",
    "  df2.at[el, 'codelabel'] = 0\n",
    "for el in stf:\n",
    "  df2.at[el, 'codelabel'] = 1\n",
    "for el in sts:\n",
    "  df2.at[el, 'codelabel'] = 2\n",
    "for el in stl:\n",
    "  df2.at[el, 'codelabel'] = 3"
   ]
  },
  {
   "cell_type": "code",
   "execution_count": 30,
   "metadata": {},
   "outputs": [
    {
     "data": {
      "text/plain": [
       "0      0\n",
       "1      0\n",
       "2      1\n",
       "3      0\n",
       "4      0\n",
       "      ..\n",
       "434    3\n",
       "440    3\n",
       "446    3\n",
       "452    3\n",
       "458    3\n",
       "Name: codelabel, Length: 110, dtype: object"
      ]
     },
     "execution_count": 30,
     "metadata": {},
     "output_type": "execute_result"
    }
   ],
   "source": [
    "df2 = df2.dropna()\n",
    "df2[\"codelabel\"]"
   ]
  },
  {
   "cell_type": "code",
   "execution_count": 31,
   "metadata": {
    "id": "feShnfl9wqBK"
   },
   "outputs": [],
   "source": [
    "from sklearn.model_selection import train_test_split\n",
    "from sklearn.preprocessing import StandardScaler\n",
    "\n",
    "X = df2.drop(columns=['epoch','time','condition', 'codelabel'])\n",
    "y = df2['codelabel']\n",
    "\n",
    "X_train, X_test, y_train, y_test = train_test_split(X, y, test_size=0.3, random_state=42)"
   ]
  },
  {
   "cell_type": "code",
   "execution_count": 32,
   "metadata": {
    "colab": {
     "base_uri": "https://localhost:8080/"
    },
    "id": "bWjhtQ_ljKZY",
    "outputId": "cc479e2d-0e52-4ffe-f1af-de319c40ecdb"
   },
   "outputs": [
    {
     "name": "stdout",
     "output_type": "stream",
     "text": [
      "Epoch 1/10\n",
      "\u001B[1m3/3\u001B[0m \u001B[32m━━━━━━━━━━━━━━━━━━━━\u001B[0m\u001B[37m\u001B[0m \u001B[1m1s\u001B[0m 73ms/step - accuracy: 0.0715 - loss: 1.7807 - val_accuracy: 0.5152 - val_loss: 1.3469\n",
      "Epoch 2/10\n",
      "\u001B[1m3/3\u001B[0m \u001B[32m━━━━━━━━━━━━━━━━━━━━\u001B[0m\u001B[37m\u001B[0m \u001B[1m0s\u001B[0m 19ms/step - accuracy: 0.3602 - loss: 1.4387 - val_accuracy: 0.6667 - val_loss: 1.1515\n",
      "Epoch 3/10\n",
      "\u001B[1m3/3\u001B[0m \u001B[32m━━━━━━━━━━━━━━━━━━━━\u001B[0m\u001B[37m\u001B[0m \u001B[1m0s\u001B[0m 23ms/step - accuracy: 0.6138 - loss: 1.1395 - val_accuracy: 0.8485 - val_loss: 0.9975\n",
      "Epoch 4/10\n",
      "\u001B[1m3/3\u001B[0m \u001B[32m━━━━━━━━━━━━━━━━━━━━\u001B[0m\u001B[37m\u001B[0m \u001B[1m0s\u001B[0m 16ms/step - accuracy: 0.9233 - loss: 0.9227 - val_accuracy: 0.8788 - val_loss: 0.8866\n",
      "Epoch 5/10\n",
      "\u001B[1m3/3\u001B[0m \u001B[32m━━━━━━━━━━━━━━━━━━━━\u001B[0m\u001B[37m\u001B[0m \u001B[1m0s\u001B[0m 16ms/step - accuracy: 0.9129 - loss: 0.7498 - val_accuracy: 0.8788 - val_loss: 0.8080\n",
      "Epoch 6/10\n",
      "\u001B[1m3/3\u001B[0m \u001B[32m━━━━━━━━━━━━━━━━━━━━\u001B[0m\u001B[37m\u001B[0m \u001B[1m0s\u001B[0m 24ms/step - accuracy: 0.8531 - loss: 0.6438 - val_accuracy: 0.8182 - val_loss: 0.7479\n",
      "Epoch 7/10\n",
      "\u001B[1m3/3\u001B[0m \u001B[32m━━━━━━━━━━━━━━━━━━━━\u001B[0m\u001B[37m\u001B[0m \u001B[1m0s\u001B[0m 17ms/step - accuracy: 0.8179 - loss: 0.5896 - val_accuracy: 0.7879 - val_loss: 0.7016\n",
      "Epoch 8/10\n",
      "\u001B[1m3/3\u001B[0m \u001B[32m━━━━━━━━━━━━━━━━━━━━\u001B[0m\u001B[37m\u001B[0m \u001B[1m0s\u001B[0m 17ms/step - accuracy: 0.8010 - loss: 0.5276 - val_accuracy: 0.7576 - val_loss: 0.6697\n",
      "Epoch 9/10\n",
      "\u001B[1m3/3\u001B[0m \u001B[32m━━━━━━━━━━━━━━━━━━━━\u001B[0m\u001B[37m\u001B[0m \u001B[1m0s\u001B[0m 24ms/step - accuracy: 0.7958 - loss: 0.4794 - val_accuracy: 0.8182 - val_loss: 0.6356\n",
      "Epoch 10/10\n",
      "\u001B[1m3/3\u001B[0m \u001B[32m━━━━━━━━━━━━━━━━━━━━\u001B[0m\u001B[37m\u001B[0m \u001B[1m0s\u001B[0m 17ms/step - accuracy: 0.8570 - loss: 0.4053 - val_accuracy: 0.8182 - val_loss: 0.6126\n"
     ]
    },
    {
     "data": {
      "text/plain": [
       "<keras.src.callbacks.history.History at 0x1e8ae7ea400>"
      ]
     },
     "execution_count": 32,
     "metadata": {},
     "output_type": "execute_result"
    }
   ],
   "source": [
    "from keras.models import Sequential\n",
    "from keras.layers import Dense, Dropout, Input\n",
    "\n",
    "# Создание нейронной сети\n",
    "model = Sequential()\n",
    "model.add(Input(shape=(X_train.shape[1],)))\n",
    "model.add(Dense(128, activation='relu'))\n",
    "model.add(Dense(4, activation='softmax'))\n",
    "\n",
    "# Компиляция модели\n",
    "model.compile(optimizer='adam', loss='sparse_categorical_crossentropy', metrics=['accuracy'])\n",
    "\n",
    "y_train = y_train.astype('int32')\n",
    "y_test = y_test.astype('int32')\n",
    "X_train = X_train.astype('float32')\n",
    "X_test = X_test.astype('float32')\n",
    "\n",
    "scaler = StandardScaler()\n",
    "X_train = scaler.fit_transform(X_train)\n",
    "X_test = scaler.transform(X_test)\n",
    "\n",
    "# Обучение модели\n",
    "model.fit(X_train, y_train, validation_data=(X_test, y_test), epochs=10)"
   ]
  },
  {
   "cell_type": "code",
   "execution_count": 34,
   "metadata": {},
   "outputs": [
    {
     "name": "stdout",
     "output_type": "stream",
     "text": [
      "Accuracy: 0.94\n",
      "Confusion Matrix:\n",
      "[[8 0 0 0]\n",
      " [1 7 0 0]\n",
      " [1 0 9 0]\n",
      " [0 0 0 7]]\n",
      "Classification Report:\n",
      "              precision    recall  f1-score   support\n",
      "\n",
      "           0       0.80      1.00      0.89         8\n",
      "           1       1.00      0.88      0.93         8\n",
      "           2       1.00      0.90      0.95        10\n",
      "           3       1.00      1.00      1.00         7\n",
      "\n",
      "    accuracy                           0.94        33\n",
      "   macro avg       0.95      0.94      0.94        33\n",
      "weighted avg       0.95      0.94      0.94        33\n",
      "\n"
     ]
    }
   ],
   "source": [
    "from sklearn.tree import DecisionTreeClassifier\n",
    "from sklearn.svm import SVC\n",
    "from sklearn.metrics import accuracy_score, classification_report, confusion_matrix\n",
    "\n",
    "model_tree = SVC(kernel='linear') \n",
    "model_tree.fit(X_train, y_train)\n",
    "y_pred = model_tree.predict(X_test)\n",
    "# Оценка модели\n",
    "accuracy = accuracy_score(y_test, y_pred)\n",
    "print(f'Accuracy: {accuracy:.2f}')\n",
    "\n",
    "# Дополнительные метрики\n",
    "print(\"Confusion Matrix:\")\n",
    "print(confusion_matrix(y_test, y_pred))\n",
    "print(\"Classification Report:\")\n",
    "print(classification_report(y_test, y_pred))"
   ]
  },
  {
   "cell_type": "code",
   "execution_count": 35,
   "metadata": {
    "colab": {
     "base_uri": "https://localhost:8080/"
    },
    "id": "WyRJgJ4Aw48F",
    "outputId": "425bf9b6-126b-4829-8207-001204995a8c"
   },
   "outputs": [
    {
     "name": "stdout",
     "output_type": "stream",
     "text": [
      "\u001B[1m2/2\u001B[0m \u001B[32m━━━━━━━━━━━━━━━━━━━━\u001B[0m\u001B[37m\u001B[0m \u001B[1m0s\u001B[0m 16ms/step - accuracy: 0.8163 - loss: 0.6114\n",
      "Loss: 0.6126\n",
      "Accuracy: 0.8182\n"
     ]
    }
   ],
   "source": [
    "loss, accuracy = model.evaluate(X_test, y_test)\n",
    "\n",
    "print(f'Loss: {loss:.4f}')\n",
    "print(f'Accuracy: {accuracy:.4f}')"
   ]
  },
  {
   "cell_type": "code",
   "execution_count": 36,
   "metadata": {
    "id": "23njaVnTlMd_"
   },
   "outputs": [],
   "source": [
    "model.save('model.keras')"
   ]
  },
  {
   "cell_type": "code",
   "execution_count": 37,
   "metadata": {},
   "outputs": [],
   "source": [
    "def get_act_name(code):\n",
    "    if code  == 0:\n",
    "        return \"s0\"\n",
    "    elif code == 1:\n",
    "        return \"stf\"\n",
    "    elif code == 2:\n",
    "        return \"sts\"\n",
    "    elif code == 3:\n",
    "        return \"stl\""
   ]
  },
  {
   "cell_type": "code",
   "execution_count": 38,
   "metadata": {},
   "outputs": [
    {
     "name": "stdout",
     "output_type": "stream",
     "text": [
      "\u001B[1m1/1\u001B[0m \u001B[32m━━━━━━━━━━━━━━━━━━━━\u001B[0m\u001B[37m\u001B[0m \u001B[1m0s\u001B[0m 58ms/step\n",
      "predicted num is `stf` and correct num is `stf`\n"
     ]
    }
   ],
   "source": [
    "test_num = 19\n",
    "predicted = get_act_name(np.argmax(model.predict(X_test[test_num].reshape(1, 24))))\n",
    "correct = get_act_name(list(y_test)[test_num])\n",
    "print(f\"predicted num is `{predicted}` and correct num is `{correct}`\")"
   ]
  },
  {
   "cell_type": "code",
   "execution_count": 39,
   "metadata": {
    "colab": {
     "base_uri": "https://localhost:8080/"
    },
    "id": "gH2KXjBAlIIP",
    "outputId": "6443c40c-77fb-4acb-baa4-a40adbb87081"
   },
   "outputs": [
    {
     "name": "stdout",
     "output_type": "stream",
     "text": [
      "INFO:tensorflow:Assets written to: C:\\Users\\Kiselev\\AppData\\Local\\Temp\\1\\tmpy5lybf7p\\assets\n"
     ]
    },
    {
     "name": "stderr",
     "output_type": "stream",
     "text": [
      "INFO:tensorflow:Assets written to: C:\\Users\\Kiselev\\AppData\\Local\\Temp\\1\\tmpy5lybf7p\\assets\n"
     ]
    },
    {
     "name": "stdout",
     "output_type": "stream",
     "text": [
      "Saved artifact at 'C:\\Users\\Kiselev\\AppData\\Local\\Temp\\1\\tmpy5lybf7p'. The following endpoints are available:\n",
      "\n",
      "* Endpoint 'serve'\n",
      "  args_0 (POSITIONAL_ONLY): TensorSpec(shape=(None, 24), dtype=tf.float32, name='keras_tensor_8')\n",
      "Output Type:\n",
      "  TensorSpec(shape=(None, 4), dtype=tf.float32, name=None)\n",
      "Captures:\n",
      "  2098779292240: TensorSpec(shape=(), dtype=tf.resource, name=None)\n",
      "  2098896029296: TensorSpec(shape=(), dtype=tf.resource, name=None)\n",
      "  2098895942400: TensorSpec(shape=(), dtype=tf.resource, name=None)\n",
      "  2098895944336: TensorSpec(shape=(), dtype=tf.resource, name=None)\n"
     ]
    }
   ],
   "source": [
    "# # Загрузка модели\n",
    "# model = tf.keras.models.load_model('model.keras')\n",
    "\n",
    "# Инициализация конвертера\n",
    "converter = tf.lite.TFLiteConverter.from_keras_model(model)\n",
    "\n",
    "# Конвертация в формат TFLite\n",
    "tflite_model = converter.convert()\n",
    "\n",
    "# Сохранение TFLite модели в файл\n",
    "with open('model.tflite', 'wb') as f:\n",
    "    f.write(tflite_model)"
   ]
  },
  {
   "cell_type": "code",
   "execution_count": 40,
   "metadata": {
    "colab": {
     "base_uri": "https://localhost:8080/"
    },
    "id": "D9PIBpHp0ocM",
    "outputId": "d81c5faf-2fbc-438f-fe1c-354362f5886a"
   },
   "outputs": [
    {
     "name": "stdout",
     "output_type": "stream",
     "text": [
      "Размер файла: 16576 байт\n"
     ]
    }
   ],
   "source": [
    "file_size = os.path.getsize(\"./model.tflite\")\n",
    "\n",
    "# Вывод размера файла\n",
    "print(f\"Размер файла: {file_size} байт\")"
   ]
  },
  {
   "cell_type": "code",
   "execution_count": 41,
   "metadata": {
    "colab": {
     "base_uri": "https://localhost:8080/"
    },
    "id": "m9bCJJVljgLu",
    "outputId": "d4b99c09-98b9-4300-f9ca-c5149a07e601"
   },
   "outputs": [
    {
     "name": "stdout",
     "output_type": "stream",
     "text": [
      "[ 1 24]\n"
     ]
    }
   ],
   "source": [
    "model_path= \"model.tflite\"\n",
    "\n",
    "interpreter = tf.lite.Interpreter(model_path=model_path)\n",
    "\n",
    "\n",
    "interpreter.allocate_tensors()\n",
    "input_details = interpreter.get_input_details()\n",
    "print(input_details[0]['shape'])\n",
    "output_details = interpreter.get_output_details()\n",
    "input_shape = input_details[0]['shape']"
   ]
  },
  {
   "cell_type": "code",
   "execution_count": 42,
   "metadata": {
    "colab": {
     "base_uri": "https://localhost:8080/"
    },
    "id": "0zonM_P0mhtU",
    "outputId": "67cc668e-35ce-42bb-df89-09c6b922e8d6"
   },
   "outputs": [
    {
     "name": "stdout",
     "output_type": "stream",
     "text": [
      "data on input: [-0.52109855 -0.57133687 -0.481523   -0.5882358  -0.80570453 -0.03607523\n",
      " -0.8392386  -0.8549552   0.3732829  -0.5899839   0.38921237  0.5864193\n",
      "  1.0258859  -0.41387412 -0.5701152  -0.6521362  -0.8420634  -0.68346435\n",
      " -0.8151803  -0.668313    0.6052867   1.0809759   0.77627265 -0.77486044]\n",
      "It has action: stf\n",
      "Input details: [{'name': 'serving_default_keras_tensor_8:0', 'index': 0, 'shape': array([ 1, 24]), 'shape_signature': array([-1, 24]), 'dtype': <class 'numpy.float32'>, 'quantization': (0.0, 0), 'quantization_parameters': {'scales': array([], dtype=float32), 'zero_points': array([], dtype=int32), 'quantized_dimension': 0}, 'sparsity_parameters': {}}]\n",
      "Predicted output: [[0.14094679 0.65786195 0.15178901 0.04940225]]\n",
      "1\n"
     ]
    }
   ],
   "source": [
    "#input_data = np.array(np.random.random_sample(input_shape), dtype=np.float32)\n",
    "input_data = X_test[19]\n",
    "print(f\"data on input: {input_data}\")\n",
    "print(f\"It has action: {get_act_name(list(y_test)[19])}\")\n",
    "input_reshaped = input_data.reshape(input_shape)\n",
    "\n",
    "# входные данные\n",
    "interpreter.set_tensor(input_details[0]['index'], input_reshaped)\n",
    "print(\"Input details:\", input_details)\n",
    "#  предсказание\n",
    "interpreter.invoke()\n",
    "\n",
    "# выходные данные\n",
    "output_data = interpreter.get_tensor(output_details[0]['index'])\n",
    "\n",
    "print(\"Predicted output:\", output_data)\n",
    "index_max = np.argmax(output_data)\n",
    "print(get_act_name(list(y_test)[19]))"
   ]
  },
  {
   "cell_type": "code",
   "execution_count": 43,
   "metadata": {
    "id": "_jUfuJX7sTtB"
   },
   "outputs": [],
   "source": [
    "np.savetxt('X_test.csv', X_test, delimiter=',', fmt='%f', header='', comments='')"
   ]
  },
  {
   "cell_type": "code",
   "execution_count": null,
   "metadata": {},
   "outputs": [],
   "source": "np.savetxt('Y_test.csv', y_test, delimiter=',', fmt='%f', header='', comments='')"
  }
 ],
 "metadata": {
  "colab": {
   "provenance": []
  },
  "kernelspec": {
   "display_name": "EEG (env)",
   "language": "python",
   "name": "env"
  },
  "language_info": {
   "codemirror_mode": {
    "name": "ipython",
    "version": 3
   },
   "file_extension": ".py",
   "mimetype": "text/x-python",
   "name": "python",
   "nbconvert_exporter": "python",
   "pygments_lexer": "ipython3",
   "version": "3.9.13"
  }
 },
 "nbformat": 4,
 "nbformat_minor": 4
}
