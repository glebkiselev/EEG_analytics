{
 "cells": [
  {
   "cell_type": "code",
   "id": "initial_id",
   "metadata": {
    "collapsed": true,
    "ExecuteTime": {
     "end_time": "2024-12-23T20:10:32.710364Z",
     "start_time": "2024-12-23T20:10:29.373880Z"
    }
   },
   "source": [
    "from typing import Tuple, Iterable\n",
    "\n",
    "import matplotlib.pyplot as plt\n",
    "import numpy as np\n",
    "import pandas as pd\n",
    "import requests\n",
    "from tqdm.notebook import tqdm\n",
    "\n",
    "CONTROLLER_ADDR = '192.168.0.104'\n",
    "\n",
    "df_X = pd.read_csv('X_test.csv', header=None)"
   ],
   "outputs": [],
   "execution_count": 1
  },
  {
   "metadata": {
    "ExecuteTime": {
     "end_time": "2024-12-23T20:10:32.848377Z",
     "start_time": "2024-12-23T20:10:32.716375Z"
    }
   },
   "cell_type": "code",
   "source": [
    "def predict(x: Iterable) -> Tuple[float, float, float, float]:\n",
    "    resp = requests.get(f'http://{CONTROLLER_ADDR}/predict', params={\n",
    "        f'x{idx + 1}': xi\n",
    "        for idx, xi in enumerate(x)\n",
    "    })\n",
    "    resp.raise_for_status()\n",
    "\n",
    "    # noinspection PyTypeChecker\n",
    "    return tuple(float(y) for idx, y in enumerate(str(resp.text).split(' ')) if idx < 4)\n",
    "\n",
    "\n",
    "predict((-0.52109855, -0.57133687, -0.481523, -0.5882358, -0.80570453, -0.03607523,\n",
    "         -0.8392386, -0.8549552, 0.3732829, -0.5899839, 0.38921237, 0.5864193,\n",
    "         1.0258859, -0.41387412, -0.5701152, -0.6521362, -0.8420634, -0.68346435,\n",
    "         -0.8151803, -0.668313, 0.6052867, 1.0809759, 0.77627265, -0.77486044,))"
   ],
   "id": "b0c5bcc18885da44",
   "outputs": [
    {
     "data": {
      "text/plain": [
       "(0.01, 0.0, 0.0, 0.99)"
      ]
     },
     "execution_count": 2,
     "metadata": {},
     "output_type": "execute_result"
    }
   ],
   "execution_count": 2
  },
  {
   "metadata": {
    "ExecuteTime": {
     "end_time": "2024-12-23T20:10:53.295232Z",
     "start_time": "2024-12-23T20:10:32.940839Z"
    }
   },
   "cell_type": "code",
   "source": [
    "indices = [x for x in range(0, len(df_X), len(df_X) // 650)]\n",
    "df_X = df_X.iloc[indices]\n",
    "y_pred = np.array([\n",
    "    predict(x)\n",
    "    for _, x in tqdm(df_X.iterrows(), total=len(df_X))\n",
    "], dtype='float64')"
   ],
   "id": "5b8eb940cc87195f",
   "outputs": [
    {
     "data": {
      "text/plain": [
       "  0%|          | 0/651 [00:00<?, ?it/s]"
      ],
      "application/vnd.jupyter.widget-view+json": {
       "version_major": 2,
       "version_minor": 0,
       "model_id": "3d7a5388aabf4835afaf25546dc5f255"
      }
     },
     "metadata": {},
     "output_type": "display_data"
    }
   ],
   "execution_count": 3
  },
  {
   "metadata": {
    "ExecuteTime": {
     "end_time": "2024-12-23T20:10:53.432904Z",
     "start_time": "2024-12-23T20:10:53.311765Z"
    }
   },
   "cell_type": "code",
   "source": [
    "y_pred_cls = np.argmax(y_pred, axis=-1).astype('int32')\n",
    "plt.title(\"Test dataset pred classes\")\n",
    "plt.hist(y_pred_cls, bins=4, range=(0, 3))\n",
    "plt.show()"
   ],
   "id": "393052eb7a96987e",
   "outputs": [
    {
     "data": {
      "text/plain": [
       "<Figure size 640x480 with 1 Axes>"
      ],
      "image/png": "[encoded data removed]"
     },
     "metadata": {},
     "output_type": "display_data"
    }
   ],
   "execution_count": 4
  },
  {
   "metadata": {},
   "cell_type": "markdown",
   "source": "### Eval on Arduino",
   "id": "4b8e8bd506dfca9a"
  },
  {
   "metadata": {
    "ExecuteTime": {
     "end_time": "2024-12-23T20:10:53.494415Z",
     "start_time": "2024-12-23T20:10:53.449153Z"
    }
   },
   "cell_type": "code",
   "source": [
    "df_y = pd.read_csv('y_test.csv', header=None)\n",
    "df_y = df_y.iloc[indices]\n",
    "X_test = df_X.to_numpy(dtype='float32')\n",
    "y_test = df_y.to_numpy(dtype='int32').reshape((-1,))"
   ],
   "id": "fec758384af20c89",
   "outputs": [],
   "execution_count": 5
  },
  {
   "metadata": {
    "ExecuteTime": {
     "end_time": "2024-12-23T20:10:54.044015Z",
     "start_time": "2024-12-23T20:10:53.510945Z"
    }
   },
   "cell_type": "code",
   "source": [
    "from sklearn.metrics import accuracy_score, confusion_matrix, classification_report\n",
    "\n",
    "accuracy = accuracy_score(y_test, y_pred_cls)\n",
    "print(f'Accuracy: {accuracy:.2f}')\n",
    "\n",
    "print(\"Confusion Matrix:\")\n",
    "print(confusion_matrix(y_test, y_pred_cls))\n",
    "print(\"Classification Report:\")\n",
    "print(classification_report(y_test, y_pred_cls, zero_division=0))"
   ],
   "id": "77852261a9519f86",
   "outputs": [
    {
     "name": "stdout",
     "output_type": "stream",
     "text": [
      "Accuracy: 0.99\n",
      "Confusion Matrix:\n",
      "[[ 76   0   0   0]\n",
      " [  0  75   0   0]\n",
      " [  0   0 172   1]\n",
      " [  0   0   4 323]]\n",
      "Classification Report:\n",
      "              precision    recall  f1-score   support\n",
      "\n",
      "           0       1.00      1.00      1.00        76\n",
      "           1       1.00      1.00      1.00        75\n",
      "           2       0.98      0.99      0.99       173\n",
      "           3       1.00      0.99      0.99       327\n",
      "\n",
      "    accuracy                           0.99       651\n",
      "   macro avg       0.99      1.00      0.99       651\n",
      "weighted avg       0.99      0.99      0.99       651\n",
      "\n"
     ]
    }
   ],
   "execution_count": 6
  },
  {
   "metadata": {},
   "cell_type": "markdown",
   "source": "### Eval on local machine",
   "id": "76606e950404b425"
  },
  {
   "metadata": {
    "ExecuteTime": {
     "end_time": "2024-12-23T20:10:56.333693Z",
     "start_time": "2024-12-23T20:10:54.075915Z"
    }
   },
   "cell_type": "code",
   "source": [
    "import tensorflow as tf\n",
    "\n",
    "interpreter = tf.lite.Interpreter(model_path=\"model.tflite\")\n",
    "interpreter.allocate_tensors()\n",
    "\n",
    "input_details = interpreter.get_input_details()\n",
    "output_details = interpreter.get_output_details()\n",
    "\n",
    "\n",
    "def predict_local(x):\n",
    "    input_data = x.reshape(input_details[0]['shape']).astype(np.float32)\n",
    "    interpreter.set_tensor(input_details[0]['index'], input_data)\n",
    "    interpreter.invoke()\n",
    "\n",
    "    output_data = interpreter.get_tensor(output_details[0]['index'])\n",
    "    return np.argmax(output_data)\n",
    "\n",
    "\n",
    "y_pred_cls_local = np.array([\n",
    "    predict_local(X_test[i])\n",
    "    for i in tqdm(range(len(X_test)), total=len(X_test))\n",
    "], dtype='int32')"
   ],
   "id": "259126aa2771310",
   "outputs": [
    {
     "data": {
      "text/plain": [
       "  0%|          | 0/651 [00:00<?, ?it/s]"
      ],
      "application/vnd.jupyter.widget-view+json": {
       "version_major": 2,
       "version_minor": 0,
       "model_id": "1f71410b7bd84733ae7c64f39ea71830"
      }
     },
     "metadata": {},
     "output_type": "display_data"
    }
   ],
   "execution_count": 7
  },
  {
   "metadata": {
    "ExecuteTime": {
     "end_time": "2024-12-23T20:10:56.364904Z",
     "start_time": "2024-12-23T20:10:56.350212Z"
    }
   },
   "cell_type": "code",
   "source": [
    "accuracy = accuracy_score(y_test, y_pred_cls_local)\n",
    "print(f'Accuracy: {accuracy:.2f}')\n",
    "\n",
    "print(\"Confusion Matrix:\")\n",
    "print(confusion_matrix(y_test, y_pred_cls_local))\n",
    "print(\"Classification Report:\")\n",
    "print(classification_report(y_test, y_pred_cls_local, zero_division=0))"
   ],
   "id": "641bdd97fe4231f3",
   "outputs": [
    {
     "name": "stdout",
     "output_type": "stream",
     "text": [
      "Accuracy: 0.99\n",
      "Confusion Matrix:\n",
      "[[ 76   0   0   0]\n",
      " [  0  75   0   0]\n",
      " [  0   0 172   1]\n",
      " [  0   0   4 323]]\n",
      "Classification Report:\n",
      "              precision    recall  f1-score   support\n",
      "\n",
      "           0       1.00      1.00      1.00        76\n",
      "           1       1.00      1.00      1.00        75\n",
      "           2       0.98      0.99      0.99       173\n",
      "           3       1.00      0.99      0.99       327\n",
      "\n",
      "    accuracy                           0.99       651\n",
      "   macro avg       0.99      1.00      0.99       651\n",
      "weighted avg       0.99      0.99      0.99       651\n",
      "\n"
     ]
    }
   ],
   "execution_count": 8
  },
  {
   "metadata": {},
   "cell_type": "markdown",
   "source": "### Eval samples by API",
   "id": "a0087286ae56207a"
  },
  {
   "metadata": {
    "ExecuteTime": {
     "end_time": "2024-12-23T20:11:07.214124Z",
     "start_time": "2024-12-23T20:10:56.380875Z"
    }
   },
   "cell_type": "code",
   "source": [
    "df = pd.read_csv(fr\"E:\\datasets\\eeg\\data1.csv\")\n",
    "df_X = df.drop(columns=[\n",
    "    'Timestamp', 'Marker tag', 'Unnamed: 31', 'Marker value',\n",
    "    'Channel 25', 'Channel 26', 'Channel 27', 'Marker timestamp'\n",
    "])\n",
    "df_y = df['Marker value']"
   ],
   "id": "d5ebd90512d4c9b4",
   "outputs": [],
   "execution_count": 9
  },
  {
   "metadata": {
    "ExecuteTime": {
     "end_time": "2024-12-23T20:11:07.613361Z",
     "start_time": "2024-12-23T20:11:07.553083Z"
    }
   },
   "cell_type": "code",
   "source": [
    "filtered = df_y[df_y.notna()]\n",
    "    \n",
    "def get_sample(_idx):\n",
    "    _x = df_X.iloc[filtered.index[_idx] + 1800]\n",
    "    _y = filtered.iloc[_idx]\n",
    "    return _x, _y\n",
    "\n",
    "get_sample(2)"
   ],
   "id": "93d897c221cf5516",
   "outputs": [
    {
     "data": {
      "text/plain": [
       "(Channel 1    -0.008060\n",
       " Channel 2     0.002619\n",
       " Channel 3    -0.004173\n",
       " Channel 4    -0.011679\n",
       " Channel 5    -0.008189\n",
       " Channel 6    -0.002232\n",
       " Channel 7    -0.007539\n",
       " Channel 8    -0.013408\n",
       " Channel 9    -0.004882\n",
       " Channel 10   -0.015210\n",
       " Channel 11   -0.008876\n",
       " Channel 12   -0.003341\n",
       " Channel 13    0.010716\n",
       " Channel 14   -0.005611\n",
       " Channel 15   -0.006158\n",
       " Channel 16   -0.002520\n",
       " Channel 17   -0.001500\n",
       " Channel 18    0.004922\n",
       " Channel 19   -0.005550\n",
       " Channel 20    0.013120\n",
       " Channel 21   -0.001731\n",
       " Channel 22   -0.005772\n",
       " Channel 23   -0.001096\n",
       " Channel 24    0.008528\n",
       " Name: 14188, dtype: float64,\n",
       " 'Extension')"
      ]
     },
     "execution_count": 10,
     "metadata": {},
     "output_type": "execute_result"
    }
   ],
   "execution_count": 10
  },
  {
   "metadata": {
    "ExecuteTime": {
     "end_time": "2024-12-23T20:11:08.056939Z",
     "start_time": "2024-12-23T20:11:07.934418Z"
    }
   },
   "cell_type": "code",
   "source": [
    "from eegmla import ExperimentalArduinoApi\n",
    "\n",
    "api = ExperimentalArduinoApi(CONTROLLER_ADDR)\n",
    "\n",
    "def pred_sample(_idx):\n",
    "    sample_x, sample_y = get_sample(_idx)\n",
    "    pred = api.predict(*sample_x)\n",
    "    pred_cls = api.get_label(pred)\n",
    "    print(f'Sample #{_idx:06d}, pred: {pred_cls}, true: {sample_y}')\n",
    "\n",
    "pred_sample(2)"
   ],
   "id": "7a02e01ee8ae4fef",
   "outputs": [
    {
     "name": "stdout",
     "output_type": "stream",
     "text": [
      "Sample #000002, pred: Extension, true: Extension\n"
     ]
    }
   ],
   "execution_count": 11
  },
  {
   "metadata": {
    "ExecuteTime": {
     "end_time": "2024-12-23T20:11:08.687508Z",
     "start_time": "2024-12-23T20:11:08.381694Z"
    }
   },
   "cell_type": "code",
   "source": [
    "pred_sample(10)\n",
    "pred_sample(57)\n",
    "pred_sample(124)\n",
    "pred_sample(254)\n",
    "pred_sample(311)"
   ],
   "id": "8ba3e16ae9e1231b",
   "outputs": [
    {
     "name": "stdout",
     "output_type": "stream",
     "text": [
      "Sample #000010, pred: Extension, true: Extension\n",
      "Sample #000057, pred: Pause, true: Pause\n",
      "Sample #000124, pred: Palm Forward, true: Palm Forward\n",
      "Sample #000254, pred: Flexion, true: Flexion\n",
      "Sample #000311, pred: Pause, true: Pause\n"
     ]
    }
   ],
   "execution_count": 12
  },
  {
   "metadata": {
    "ExecuteTime": {
     "end_time": "2024-12-23T20:11:09.041478Z",
     "start_time": "2024-12-23T20:11:09.026954Z"
    }
   },
   "cell_type": "code",
   "source": "",
   "id": "2902128b13665b5a",
   "outputs": [],
   "execution_count": null
  }
 ],
 "metadata": {
  "kernelspec": {
   "display_name": "Python 3",
   "language": "python",
   "name": "python3"
  },
  "language_info": {
   "codemirror_mode": {
    "name": "ipython",
    "version": 2
   },
   "file_extension": ".py",
   "mimetype": "text/x-python",
   "name": "python",
   "nbconvert_exporter": "python",
   "pygments_lexer": "ipython2",
   "version": "2.7.6"
  }
 },
 "nbformat": 4,
 "nbformat_minor": 5
}
